{
  "cells": [
    {
      "cell_type": "markdown",
      "metadata": {
        "id": "view-in-github",
        "colab_type": "text"
      },
      "source": [
        "<a href=\"https://colab.research.google.com/github/Alim20022004/FederatedLearning/blob/main/FEDlearning.ipynb\" target=\"_parent\"><img src=\"https://colab.research.google.com/assets/colab-badge.svg\" alt=\"Open In Colab\"/></a>"
      ]
    },
    {
      "cell_type": "code",
      "execution_count": null,
      "metadata": {
        "colab": {
          "base_uri": "https://localhost:8080/"
        },
        "id": "8GW7YKNXXckc",
        "outputId": "60d2c4f2-8fd5-45b4-f50b-5e7cea45254f"
      },
      "outputs": [
        {
          "name": "stdout",
          "output_type": "stream",
          "text": [
            "\u001b[?25l     \u001b[90m━━━━━━━━━━━━━━━━━━━━━━━━━━━━━━━━━━━━━━━━\u001b[0m \u001b[32m0.0/87.2 kB\u001b[0m \u001b[31m?\u001b[0m eta \u001b[36m-:--:--\u001b[0m\r\u001b[2K     \u001b[90m━━━━━━━━━━━━━━━━━━━━━━━━━━━━━━━━━━━━━━━━\u001b[0m \u001b[32m87.2/87.2 kB\u001b[0m \u001b[31m9.3 MB/s\u001b[0m eta \u001b[36m0:00:00\u001b[0m\n",
            "\u001b[?25h  Preparing metadata (setup.py) ... \u001b[?25l\u001b[?25hdone\n",
            "\u001b[2K   \u001b[90m━━━━━━━━━━━━━━━━━━━━━━━━━━━━━━━━━━━━━━━━\u001b[0m \u001b[32m363.4/363.4 MB\u001b[0m \u001b[31m3.2 MB/s\u001b[0m eta \u001b[36m0:00:00\u001b[0m\n",
            "\u001b[2K   \u001b[90m━━━━━━━━━━━━━━━━━━━━━━━━━━━━━━━━━━━━━━━━\u001b[0m \u001b[32m13.8/13.8 MB\u001b[0m \u001b[31m130.7 MB/s\u001b[0m eta \u001b[36m0:00:00\u001b[0m\n",
            "\u001b[2K   \u001b[90m━━━━━━━━━━━━━━━━━━━━━━━━━━━━━━━━━━━━━━━━\u001b[0m \u001b[32m24.6/24.6 MB\u001b[0m \u001b[31m101.5 MB/s\u001b[0m eta \u001b[36m0:00:00\u001b[0m\n",
            "\u001b[2K   \u001b[90m━━━━━━━━━━━━━━━━━━━━━━━━━━━━━━━━━━━━━━━━\u001b[0m \u001b[32m883.7/883.7 kB\u001b[0m \u001b[31m61.3 MB/s\u001b[0m eta \u001b[36m0:00:00\u001b[0m\n",
            "\u001b[2K   \u001b[90m━━━━━━━━━━━━━━━━━━━━━━━━━━━━━━━━━━━━━━━━\u001b[0m \u001b[32m664.8/664.8 MB\u001b[0m \u001b[31m2.2 MB/s\u001b[0m eta \u001b[36m0:00:00\u001b[0m\n",
            "\u001b[2K   \u001b[90m━━━━━━━━━━━━━━━━━━━━━━━━━━━━━━━━━━━━━━━━\u001b[0m \u001b[32m211.5/211.5 MB\u001b[0m \u001b[31m4.9 MB/s\u001b[0m eta \u001b[36m0:00:00\u001b[0m\n",
            "\u001b[2K   \u001b[90m━━━━━━━━━━━━━━━━━━━━━━━━━━━━━━━━━━━━━━━━\u001b[0m \u001b[32m56.3/56.3 MB\u001b[0m \u001b[31m45.4 MB/s\u001b[0m eta \u001b[36m0:00:00\u001b[0m\n",
            "\u001b[2K   \u001b[90m━━━━━━━━━━━━━━━━━━━━━━━━━━━━━━━━━━━━━━━━\u001b[0m \u001b[32m127.9/127.9 MB\u001b[0m \u001b[31m20.2 MB/s\u001b[0m eta \u001b[36m0:00:00\u001b[0m\n",
            "\u001b[2K   \u001b[90m━━━━━━━━━━━━━━━━━━━━━━━━━━━━━━━━━━━━━━━━\u001b[0m \u001b[32m207.5/207.5 MB\u001b[0m \u001b[31m5.0 MB/s\u001b[0m eta \u001b[36m0:00:00\u001b[0m\n",
            "\u001b[2K   \u001b[90m━━━━━━━━━━━━━━━━━━━━━━━━━━━━━━━━━━━━━━━━\u001b[0m \u001b[32m21.1/21.1 MB\u001b[0m \u001b[31m111.8 MB/s\u001b[0m eta \u001b[36m0:00:00\u001b[0m\n",
            "\u001b[?25h  Building wheel for fire (setup.py) ... \u001b[?25l\u001b[?25hdone\n",
            "\u001b[2K   \u001b[90m━━━━━━━━━━━━━━━━━━━━━━━━━━━━━━━━━━━━━━━━\u001b[0m \u001b[32m66.7/66.7 MB\u001b[0m \u001b[31m36.9 MB/s\u001b[0m eta \u001b[36m0:00:00\u001b[0m\n",
            "\u001b[2K   \u001b[90m━━━━━━━━━━━━━━━━━━━━━━━━━━━━━━━━━━━━━━━━\u001b[0m \u001b[32m4.2/4.2 MB\u001b[0m \u001b[31m112.6 MB/s\u001b[0m eta \u001b[36m0:00:00\u001b[0m\n",
            "\u001b[2K   \u001b[90m━━━━━━━━━━━━━━━━━━━━━━━━━━━━━━━━━━━━━━━━\u001b[0m \u001b[32m294.6/294.6 kB\u001b[0m \u001b[31m26.7 MB/s\u001b[0m eta \u001b[36m0:00:00\u001b[0m\n",
            "\u001b[2K   \u001b[90m━━━━━━━━━━━━━━━━━━━━━━━━━━━━━━━━━━━━━━━━\u001b[0m \u001b[32m2.3/2.3 MB\u001b[0m \u001b[31m98.3 MB/s\u001b[0m eta \u001b[36m0:00:00\u001b[0m\n",
            "\u001b[2K   \u001b[90m━━━━━━━━━━━━━━━━━━━━━━━━━━━━━━━━━━━━━━━━\u001b[0m \u001b[32m236.0/236.0 kB\u001b[0m \u001b[31m19.2 MB/s\u001b[0m eta \u001b[36m0:00:00\u001b[0m\n",
            "\u001b[2K   \u001b[90m━━━━━━━━━━━━━━━━━━━━━━━━━━━━━━━━━━━━━━━━\u001b[0m \u001b[32m47.3/47.3 kB\u001b[0m \u001b[31m3.5 MB/s\u001b[0m eta \u001b[36m0:00:00\u001b[0m\n",
            "\u001b[2K   \u001b[90m━━━━━━━━━━━━━━━━━━━━━━━━━━━━━━━━━━━━━━━━\u001b[0m \u001b[32m540.0/540.0 kB\u001b[0m \u001b[31m45.6 MB/s\u001b[0m eta \u001b[36m0:00:00\u001b[0m\n",
            "\u001b[?25h\u001b[31mERROR: pip's dependency resolver does not currently take into account all the packages that are installed. This behaviour is the source of the following dependency conflicts.\n",
            "pyopenssl 24.2.1 requires cryptography<44,>=41.0.5, but you have cryptography 44.0.3 which is incompatible.\n",
            "ydf 0.11.0 requires protobuf<6.0.0,>=5.29.1, but you have protobuf 4.25.7 which is incompatible.\n",
            "grpcio-status 1.71.0 requires protobuf<6.0dev,>=5.26.1, but you have protobuf 4.25.7 which is incompatible.\n",
            "pydrive2 1.21.3 requires cryptography<44, but you have cryptography 44.0.3 which is incompatible.\u001b[0m\u001b[31m\n",
            "\u001b[0m"
          ]
        }
      ],
      "source": [
        "!pip -q install medmnist\n",
        "!pip -q install flwr[simulation]"
      ]
    },
    {
      "cell_type": "code",
      "execution_count": null,
      "metadata": {
        "colab": {
          "base_uri": "https://localhost:8080/"
        },
        "id": "vucMMFXsW2sh",
        "outputId": "2fbaa90a-7008-44ff-efc8-33387537c9ff"
      },
      "outputs": [
        {
          "name": "stdout",
          "output_type": "stream",
          "text": [
            "Flower 1.18.0\n"
          ]
        }
      ],
      "source": [
        "import numpy as np\n",
        "from collections import OrderedDict\n",
        "import matplotlib.pyplot as plt\n",
        "import seaborn as sns\n",
        "import torch\n",
        "import torch.nn as nn\n",
        "import torch.optim as optim\n",
        "from torch.utils.data import DataLoader, Subset\n",
        "from torchvision import transforms\n",
        "from medmnist import PathMNIST\n",
        "import flwr as fl\n",
        "from typing import Dict, List, Tuple\n",
        "from flwr.common import Context, Metrics\n",
        "from flwr.common import (\n",
        "    Code,\n",
        "    EvaluateIns,\n",
        "    EvaluateRes,\n",
        "    FitIns,\n",
        "    FitRes,\n",
        "    GetParametersIns,\n",
        "    GetParametersRes,\n",
        "    Status,\n",
        "    ndarrays_to_parameters,\n",
        "    parameters_to_ndarrays,\n",
        ")\n",
        "from flwr.client import Client, ClientApp, NumPyClient\n",
        "from flwr.common import log\n",
        "from flwr.common import Scalar,NDArrays\n",
        "from flwr.server import ServerApp, ServerConfig, ServerAppComponents\n",
        "from flwr.server.strategy import FedAvg\n",
        "from flwr.simulation import run_simulation\n",
        "from torchvision.models import efficientnet_b0, EfficientNet_B0_Weights\n",
        "import time\n",
        "\n",
        "device = torch.device(\"cuda\" if torch.cuda.is_available() else \"cpu\")\n",
        "\n",
        "print(f\"Flower {fl.__version__}\")\n"
      ]
    },
    {
      "cell_type": "markdown",
      "metadata": {
        "id": "xbIu8qxeW2sm"
      },
      "source": [
        "# `1.Define THE  MODEL`"
      ]
    },
    {
      "cell_type": "code",
      "execution_count": null,
      "metadata": {
        "colab": {
          "base_uri": "https://localhost:8080/"
        },
        "id": "0IMfyuz0hQ2G",
        "outputId": "86e44bc5-e4e1-4de5-d3bb-247cd5bfd3ca"
      },
      "outputs": [
        {
          "name": "stderr",
          "output_type": "stream",
          "text": [
            "Downloading: \"https://download.pytorch.org/models/efficientnet_b0_rwightman-7f5810bc.pth\" to /root/.cache/torch/hub/checkpoints/efficientnet_b0_rwightman-7f5810bc.pth\n",
            "100%|██████████| 20.5M/20.5M [00:00<00:00, 187MB/s]\n"
          ]
        }
      ],
      "source": [
        "num_classes = 9\n",
        "w=EfficientNet_B0_Weights.IMAGENET1K_V1\n",
        "modeleff = efficientnet_b0(weights=w)\n",
        "modeleff.classifier[1] = nn.Linear(modeleff.classifier[1].in_features, num_classes)\n",
        "modelefficient=modeleff.to(device)\n"
      ]
    },
    {
      "cell_type": "markdown",
      "metadata": {
        "id": "14EwdTljW2so"
      },
      "source": [
        "# `2.Traning & validation Function`"
      ]
    },
    {
      "cell_type": "code",
      "execution_count": null,
      "metadata": {
        "id": "EdM5aFj1W2sp"
      },
      "outputs": [],
      "source": [
        "\n",
        "def train_epoch(model, train_loader):\n",
        "    \"\"\"Train model for one epoch.\"\"\"\n",
        "    model.train()#train model\n",
        "    correct, total, running_loss = 0,0,0.0\n",
        "    criterion = nn.CrossEntropyLoss()\n",
        "    optimizer = optim.AdamW(model.parameters(), lr=0.001, weight_decay=1e-4)\n",
        "\n",
        "    for inputs, labels in train_loader:\n",
        "        inputs, labels = inputs.to(device), labels.squeeze().to(device)\n",
        "        optimizer.zero_grad() # Clear gradients\n",
        "        outputs = model(inputs)# Forward pass\n",
        "        loss = criterion(outputs, labels)# Compute loss\n",
        "        loss.backward() # Backward pass (compute gradients)\n",
        "        optimizer.step()# Update weights\n",
        "\n",
        "        running_loss += loss.item()\n",
        "        _, predicted = torch.max(outputs, 1)\n",
        "        total += labels.size(0)\n",
        "        correct += predicted.eq(labels).sum().item()\n",
        "\n",
        "    train_loss = running_loss / len(train_loader)\n",
        "    train_acc = 100 * correct / total\n",
        "    return train_loss, train_acc\n",
        "\n",
        "\n",
        "def validate(model, val_loader):\n",
        "    \"\"\"Validate model on validation set.\"\"\"\n",
        "    model.eval() # Set the model to evaluation mode\n",
        "    correct, total, val_loss = 0,0,0.0\n",
        "    criterion = nn.CrossEntropyLoss()\n",
        "    with torch.no_grad():  # Disable gradient computation\n",
        "        for inputs, labels in val_loader:\n",
        "            inputs, labels = inputs.to(device), labels.squeeze().to(device)\n",
        "            outputs = model(inputs)  # Forward pass\n",
        "            loss = criterion(outputs, labels)# Compute loss\n",
        "\n",
        "            val_loss += loss.item()\n",
        "            _, predicted = torch.max(outputs, 1) # Get predicted class\n",
        "            total += labels.size(0)\n",
        "            correct += predicted.eq(labels).sum().item()\n",
        "\n",
        "    val_loss = val_loss / len(val_loader)\n",
        "    val_acc = 100 * correct / total\n",
        "    return val_loss, val_acc\n"
      ]
    },
    {
      "cell_type": "markdown",
      "metadata": {
        "id": "NF6w805DW2ss"
      },
      "source": [
        "# `3.Evaluation THE Model`"
      ]
    },
    {
      "cell_type": "code",
      "execution_count": null,
      "metadata": {
        "id": "bdPGwJoTW2ss"
      },
      "outputs": [],
      "source": [
        "\n",
        "def evaluate_model(model, test_loader):\n",
        "    \"\"\"Evaluate model on test set and return predictions/labels.\"\"\"\n",
        "    model.eval()\n",
        "    total = 0\n",
        "    correct = 0\n",
        "    test_loss = 0.0\n",
        "    all_preds = []\n",
        "    all_labels = []\n",
        "    criterion = nn.CrossEntropyLoss()\n",
        "    with torch.no_grad():\n",
        "        for inputs, labels in test_loader:\n",
        "            inputs, labels = inputs.to(device),labels.squeeze().to(device)\n",
        "            outputs = model(inputs)\n",
        "            loss = criterion(outputs, labels)\n",
        "\n",
        "            test_loss += loss.item()\n",
        "            _, preds = torch.max(outputs, 1)\n",
        "            all_preds.extend(preds.cpu().numpy())\n",
        "            all_labels.extend(labels.cpu().numpy())\n",
        "            total += labels.size(0)\n",
        "            correct += preds.eq(labels).sum().item()\n",
        "\n",
        "    test_loss = test_loss / len(test_loader)\n",
        "    test_acc = 100 * correct / total\n",
        "    return test_loss,test_acc,np.array(all_preds), np.array(all_labels)"
      ]
    },
    {
      "cell_type": "markdown",
      "metadata": {
        "id": "Qidxs4MrW2st"
      },
      "source": [
        "# `4.Lead THE DATASET`"
      ]
    },
    {
      "cell_type": "code",
      "execution_count": null,
      "metadata": {
        "id": "VzqViSBsW2su"
      },
      "outputs": [],
      "source": [
        "\n",
        "# Set random seeds for reproducibility\n",
        "torch.manual_seed(42)\n",
        "NUM_CLIENTS = 5\n",
        "BATCH_SIZE = 64\n"
      ]
    },
    {
      "cell_type": "code",
      "execution_count": null,
      "metadata": {
        "id": "CWVsE3D0-GnQ"
      },
      "outputs": [],
      "source": [
        "def load_full_datasets():\n",
        "    \"\"\"\n",
        "    Load the complete PathMNIST dataset splits with appropriate transformations.\n",
        "\n",
        "    Returns:\n",
        "        tuple: (train_dataset, val_dataset, test_dataset)\n",
        "    \"\"\"\n",
        "    # Transformations for training data (with augmentation)\n",
        "    train_transform = transforms.Compose([\n",
        "        transforms.Resize((224, 224)),\n",
        "        transforms.RandomHorizontalFlip(),\n",
        "        transforms.RandomRotation(10),\n",
        "        transforms.ColorJitter(0.2, 0.2, 0.2, 0.1),\n",
        "        transforms.ToTensor(),\n",
        "        transforms.Normalize(mean=[0.5, 0.5, 0.5], std=[0.5, 0.5, 0.5])\n",
        "    ])\n",
        "\n",
        "    # Transformations for validation and testing (without augmentation)\n",
        "    test_transform = transforms.Compose([\n",
        "        transforms.Resize((224, 224)),\n",
        "        transforms.ToTensor(),\n",
        "        transforms.Normalize(mean=[0.5, 0.5, 0.5], std=[0.5, 0.5, 0.5])\n",
        "    ])\n",
        "\n",
        "    # Load the full datasets\n",
        "    train_dataset = PathMNIST(split='train', transform=train_transform, download=True)\n",
        "    val_dataset = PathMNIST(split='val', transform=test_transform, download=True)\n",
        "    return train_dataset, val_dataset"
      ]
    },
    {
      "cell_type": "code",
      "execution_count": null,
      "metadata": {
        "id": "unU0q7XgI2jE"
      },
      "outputs": [],
      "source": [
        "def load_test_dataset():\n",
        "    test_transform = transforms.Compose([\n",
        "        transforms.Resize((224, 224)),\n",
        "        transforms.ToTensor(),\n",
        "        transforms.Normalize(mean=[0.5, 0.5, 0.5], std=[0.5, 0.5, 0.5])\n",
        "    ])\n",
        "    test_dataset = PathMNIST(split='test', transform=test_transform, download=True)\n",
        "    test_loader = DataLoader(test_dataset, batch_size=BATCH_SIZE, shuffle=False, num_workers=4)\n",
        "    return test_loader\n"
      ]
    },
    {
      "cell_type": "code",
      "execution_count": null,
      "metadata": {
        "id": "r0i8lEaTM8eJ"
      },
      "outputs": [],
      "source": [
        "def partition_dataset(dataset, num_partitions: int):\n",
        "    # Shuffle dataset indices randomly\n",
        "    indices = np.random.permutation(len(dataset))\n",
        "    # Split indices into num_partitions parts\n",
        "    partitions_indices = np.array_split(indices, num_partitions)\n",
        "    # Create a Subset for each partition\n",
        "    subsets = [Subset(dataset, idx) for idx in partitions_indices]\n",
        "    return subsets"
      ]
    },
    {
      "cell_type": "code",
      "execution_count": null,
      "metadata": {
        "colab": {
          "base_uri": "https://localhost:8080/"
        },
        "id": "7TrHy6Rf1a1-",
        "outputId": "35c024f1-fbd4-43e4-c9a1-01b2ceca8099"
      },
      "outputs": [
        {
          "name": "stdout",
          "output_type": "stream",
          "text": [
            "Loading and partitioning datasets globally...\n"
          ]
        },
        {
          "name": "stderr",
          "output_type": "stream",
          "text": [
            "100%|██████████| 206M/206M [00:11<00:00, 18.1MB/s]\n"
          ]
        },
        {
          "name": "stdout",
          "output_type": "stream",
          "text": [
            "Full train dataset size: 89996\n",
            "Full val dataset size: 10004\n",
            "Train partitions: 5\n",
            "Val partitions: 5\n",
            "Data loaded and partitioned for 5 clients in 15.00 seconds.\n"
          ]
        }
      ],
      "source": [
        "# --- Perform data loading and partitioning ONCE globally ---\n",
        "print(\"Loading and partitioning datasets globally...\")\n",
        "start_time_data_prep = time.time()\n",
        "\n",
        "# 1. Load full datasets once\n",
        "FULL_TRAIN_DATASET, FULL_VAL_DATASET = load_full_datasets()\n",
        "print(f\"Full train dataset size: {len(FULL_TRAIN_DATASET)}\")\n",
        "print(f\"Full val dataset size: {len(FULL_VAL_DATASET)}\")\n",
        "# 2. Partition them once\n",
        "# Choose your partitioning strategy (e.g., Non-IID)\n",
        "TRAIN_PARTITIONS = partition_dataset(FULL_TRAIN_DATASET, NUM_CLIENTS)\n",
        "print(f\"Train partitions: {len(TRAIN_PARTITIONS)}\")\n",
        "\n",
        "VAL_PARTITIONS = partition_dataset(FULL_VAL_DATASET, NUM_CLIENTS)\n",
        "print(f\"Val partitions: {len(VAL_PARTITIONS)}\")\n",
        "# Or for IID:\n",
        "# TRAIN_PARTITIONS = partition_dataset(FULL_TRAIN_DATASET, NUM_CLIENTS)\n",
        "# VAL_PARTITIONS = partition_dataset(FULL_VAL_DATASET, NUM_CLIENTS)\n",
        "\n",
        "end_time_data_prep = time.time()\n",
        "print(f\"Data loaded and partitioned for {NUM_CLIENTS} clients in {end_time_data_prep - start_time_data_prep:.2f} seconds.\")\n",
        "\n"
      ]
    },
    {
      "cell_type": "code",
      "execution_count": null,
      "metadata": {
        "colab": {
          "base_uri": "https://localhost:8080/"
        },
        "id": "3LMnGIvC7cpZ",
        "outputId": "665cf90b-1e71-44a7-aa83-6ce9467f44d2"
      },
      "outputs": [
        {
          "name": "stdout",
          "output_type": "stream",
          "text": [
            "<torch.utils.data.dataset.Subset object at 0x7999e52dfd50>\n",
            "<torch.utils.data.dataset.Subset object at 0x7999e52fef90>\n"
          ]
        }
      ],
      "source": [
        "print(TRAIN_PARTITIONS[0])\n",
        "print(VAL_PARTITIONS[0])"
      ]
    },
    {
      "cell_type": "code",
      "execution_count": null,
      "metadata": {
        "colab": {
          "background_save": true,
          "base_uri": "https://localhost:8080/"
        },
        "id": "54i_Pe-I8IUL",
        "outputId": "e56c4626-1af8-4b2d-ba1d-dd7803da0aed"
      },
      "outputs": [
        {
          "name": "stdout",
          "output_type": "stream",
          "text": [
            "Visualizing data distribution for 5 clients...\n"
          ]
        },
        {
          "data": {
            "image/png": "[encoded data removed]",
            "text/plain": [
              "<Figure size 2000x400 with 5 Axes>"
            ]
          },
          "metadata": {},
          "output_type": "display_data"
        }
      ],
      "source": [
        "import matplotlib.pyplot as plt\n",
        "import seaborn as sns\n",
        "import numpy as np # Ensure numpy is imported\n",
        "\n",
        "# Assume these global variables are defined and populated as in your main script:\n",
        "# NUM_CLIENTS\n",
        "# FULL_TRAIN_DATASET\n",
        "# TRAIN_PARTITIONS\n",
        "# num_classes\n",
        "\n",
        "def visualize_client_data_distribution(): # Using global variables as per previous structure\n",
        "    \"\"\"\n",
        "    Visualize the distribution of dataset categories for each client.\n",
        "    Adapts layout for NUM_CLIENTS = 5 or NUM_CLIENTS = 10.\n",
        "    Uses global variables NUM_CLIENTS, FULL_TRAIN_DATASET, TRAIN_PARTITIONS, num_classes.\n",
        "    \"\"\"\n",
        "    global NUM_CLIENTS, FULL_TRAIN_DATASET, TRAIN_PARTITIONS, num_classes # Explicitly declare usage of globals\n",
        "\n",
        "    print(f\"Visualizing data distribution for {NUM_CLIENTS} clients...\")\n",
        "\n",
        "    if NUM_CLIENTS == 5:\n",
        "        nrows = 1\n",
        "        ncols = 5\n",
        "        figsize = (20, 4)\n",
        "    elif NUM_CLIENTS == 10:\n",
        "        nrows = 2\n",
        "        ncols = 5\n",
        "        figsize = (20, 8) # (width, height)\n",
        "    elif NUM_CLIENTS == 1:\n",
        "        nrows = 1\n",
        "        ncols = 1\n",
        "        figsize = (5, 4)\n",
        "    else:\n",
        "        # Default layout for other numbers of clients (as in previous version)\n",
        "        # This part handles cases other than 1, 5, or 10\n",
        "        ncols_default = min(NUM_CLIENTS, 5) # Max 5 columns, or fewer if fewer clients\n",
        "        nrows_default = (NUM_CLIENTS + ncols_default - 1) // ncols_default\n",
        "        figsize = (min(20, ncols_default * 4), nrows_default * 4)\n",
        "        nrows, ncols = nrows_default, ncols_default # Assign to nrows, ncols for consistency\n",
        "        print(f\"Using default layout: {nrows} rows, {ncols} columns for {NUM_CLIENTS} clients.\")\n",
        "\n",
        "\n",
        "    # squeeze=False ensures axs is always 2D, making .flatten() safe\n",
        "    fig, axs_grid = plt.subplots(nrows=nrows, ncols=ncols, figsize=figsize, squeeze=False)\n",
        "    axs = axs_grid.flatten() # Flatten to iterate easily\n",
        "\n",
        "    for i in range(NUM_CLIENTS):\n",
        "        if i >= len(axs): # Should not happen if nrows, ncols are calculated correctly\n",
        "            print(f\"Warning: Not enough subplots for client {i}. Skipping.\")\n",
        "            break\n",
        "        ax = axs[i] # Current subplot\n",
        "\n",
        "        subset_indices = TRAIN_PARTITIONS[i].indices\n",
        "\n",
        "        labels = []\n",
        "        for idx in subset_indices:\n",
        "            # Accessing labels (assuming PathMNIST structure or similar)\n",
        "            # dataset[idx] gives (image, label_tensor)\n",
        "            # label_tensor.item() gives the Python number\n",
        "            label_val = FULL_TRAIN_DATASET.targets[idx] if hasattr(FULL_TRAIN_DATASET, 'targets') else FULL_TRAIN_DATASET[idx][1]\n",
        "            if hasattr(label_val, 'item'):\n",
        "                label_val = label_val.item()\n",
        "            labels.append(int(label_val))\n",
        "\n",
        "        counts = [labels.count(cls) for cls in range(num_classes)]\n",
        "\n",
        "        sns.barplot(\n",
        "            x=list(range(num_classes)),\n",
        "            y=counts,\n",
        "            hue=list(range(num_classes)), # Not strictly necessary if x defines the groups\n",
        "            ax=ax,\n",
        "            palette=\"viridis\",\n",
        "            legend=False # No legend if hue is not used distinctively\n",
        "        )\n",
        "        ax.set_title(f'Client {i}')\n",
        "        ax.set_xlabel('Class')\n",
        "\n",
        "        # Only show Y-axis label for the first plot in each row\n",
        "        if i % ncols == 0:\n",
        "            ax.set_ylabel('Count')\n",
        "        else:\n",
        "            ax.set_ylabel('') # Clear y-label for other plots in the row\n",
        "\n",
        "    # Hide any unused subplots if NUM_CLIENTS is not a perfect multiple of ncols\n",
        "    for j in range(NUM_CLIENTS, nrows * ncols):\n",
        "        if j < len(axs): # Check index bounds\n",
        "            fig.delaxes(axs[j])\n",
        "\n",
        "    plt.suptitle(f'Data Distribution for {NUM_CLIENTS} Clients (IID)', fontsize=16)\n",
        "    plt.tight_layout(rect=[0, 0.03, 1, 0.95]) # Adjust layout to make space for suptitle\n",
        "    plt.show()\n",
        "visualize_client_data_distribution()"
      ]
    },
    {
      "cell_type": "code",
      "execution_count": null,
      "metadata": {
        "colab": {
          "background_save": true
        },
        "id": "jUPz6KSj3TE0"
      },
      "outputs": [],
      "source": [
        "def load_client_dataloaders(partition_id: int):\n",
        "    \"\"\"\n",
        "    Creates DataLoaders for a specific client using pre-partitioned global data.\n",
        "    \"\"\"\n",
        "    if not (0 <= partition_id < NUM_CLIENTS):\n",
        "        raise ValueError(f\"Partition ID {partition_id} is out of bounds for {NUM_CLIENTS} clients.\")\n",
        "\n",
        "    client_train_subset = TRAIN_PARTITIONS[partition_id]\n",
        "    client_val_subset = VAL_PARTITIONS[partition_id]\n",
        "\n",
        "    train_loader = DataLoader(client_train_subset, batch_size=BATCH_SIZE, shuffle=True, num_workers=4, pin_memory=True if device.type == \"cuda\" else False)\n",
        "    val_loader = DataLoader(client_val_subset, batch_size=BATCH_SIZE, shuffle=False, num_workers=4, pin_memory=True if device.type == \"cuda\" else False)\n",
        "    return train_loader, val_loader"
      ]
    },
    {
      "cell_type": "markdown",
      "metadata": {
        "id": "UdZVXCzTW2sw"
      },
      "source": [
        "# 6.Federated Learning With FLOWER"
      ]
    },
    {
      "cell_type": "code",
      "execution_count": null,
      "metadata": {
        "colab": {
          "background_save": true
        },
        "id": "ROn5GyNQW2sw"
      },
      "outputs": [],
      "source": [
        "def get_parameters(model) -> List[np.ndarray]:\n",
        "    return [val.cpu().numpy() for _, val in model.state_dict().items()]\n",
        "\n",
        "\n",
        "def set_parameters(model, parameters: List[np.ndarray]):\n",
        "    params_dict = zip(model.state_dict().keys(), parameters) # k ,v\n",
        "    state_dict = OrderedDict({k: torch.tensor(v) for k, v in params_dict})\n",
        "    model.load_state_dict(state_dict)#updated"
      ]
    },
    {
      "cell_type": "markdown",
      "metadata": {
        "id": "JBnjyGmOW2sx"
      },
      "source": [
        "### 6.1. Define the Flower ClientApp"
      ]
    },
    {
      "cell_type": "code",
      "execution_count": null,
      "metadata": {
        "colab": {
          "background_save": true
        },
        "id": "A-AIb1rAW2sx"
      },
      "outputs": [],
      "source": [
        "class FlowerClient(NumPyClient):\n",
        "    def __init__(self,partition_id,model, train_loader, val_loader):\n",
        "        self.partition_id = partition_id\n",
        "        self.model = model\n",
        "        self.train_loader = train_loader\n",
        "        self.val_loader = val_loader\n",
        "\n",
        "\n",
        "    def get_parameters(self, config) :\n",
        "        #get the model parameters and return them as a list of NumPy ndarray’s\n",
        "        print(f\"[Client {self.partition_id}] get_parameters\")\n",
        "        return get_parameters(self.model)\n",
        "\n",
        "    def fit(self, parameters: List[np.ndarray], config: Dict) -> Tuple[List[np.ndarray], int, Dict]:\n",
        "        print(f\"[Client {self.partition_id}] fit\")\n",
        "        train_start_time = time.time()\n",
        "        set_parameters(self.model, parameters)\n",
        "        # Start timing the training process\n",
        "        train_loss, train_acc = train_epoch(self.model, self.train_loader)\n",
        "        # End timing the training process\n",
        "        train_end_time = time.time()\n",
        "        train_duration = train_end_time - train_start_time\n",
        "        print(f\"Client training duration {train_duration}\")\n",
        "        return self.get_parameters({}), len(self.train_loader),{\"train_duration\": train_duration}\n",
        "\n",
        "    def evaluate(self, parameters: List[np.ndarray], config: Dict) -> Tuple[float, int, Dict]:\n",
        "        print(f\"[Client {self.partition_id}] evaluate\")\n",
        "        set_parameters(self.model, parameters)\n",
        "        val_loss, val_acc = validate(self.model, self.val_loader)\n",
        "        return float(val_loss), len(self.val_loader), {\"val_acc\": float(val_acc)}"
      ]
    },
    {
      "cell_type": "code",
      "execution_count": null,
      "metadata": {
        "colab": {
          "background_save": true
        },
        "id": "mlEbksUf3JK_"
      },
      "outputs": [],
      "source": [
        "class FlowerClientcustom(Client):\n",
        "    def __init__(self, partition_id, model, train_loader, val_loader):\n",
        "        self.partition_id = partition_id\n",
        "        self.model = model\n",
        "        self.train_loader = train_loader\n",
        "        self.val_loader = val_loader\n",
        "\n",
        "    def get_parameters(self, ins: GetParametersIns) -> GetParametersRes:\n",
        "        print(f\"[Client {self.partition_id}] get_parameters\")\n",
        "\n",
        "        # Get parameters as a list of NumPy ndarray's\n",
        "        ndarrays: List[np.ndarray] = get_parameters(self.model)\n",
        "\n",
        "        # Serialize ndarray's into a Parameters object\n",
        "        parameters = ndarrays_to_parameters(ndarrays)\n",
        "\n",
        "        # Build and return response\n",
        "        status = Status(code=Code.OK, message=\"Success\")\n",
        "        return GetParametersRes(\n",
        "            status=status,\n",
        "            parameters=parameters,\n",
        "        )\n",
        "\n",
        "    def fit(self, ins: FitIns) -> FitRes:\n",
        "        print(f\"[Client {self.partition_id}] fit\")\n",
        "        train_start_time = time.time()\n",
        "        # Deserialize parameters to NumPy ndarray's\n",
        "        parameters_original = ins.parameters\n",
        "        ndarrays_original = parameters_to_ndarrays(parameters_original)\n",
        "\n",
        "        # Update local model, train, get updated parameters\n",
        "        set_parameters(self.model, ndarrays_original)\n",
        "        train_loss, train_acc = train_epoch(self.model, self.train_loader)\n",
        "        print(f\"Train accuracy : {train_acc}| Train loss :{train_loss}\")\n",
        "        ndarrays_updated = get_parameters(self.model)\n",
        "\n",
        "        # Serialize ndarray's into a Parameters object\n",
        "        parameters_updated = ndarrays_to_parameters(ndarrays_updated)\n",
        "        train_end_time = time.time()\n",
        "        train_duration = train_end_time - train_start_time\n",
        "        print(f\"Client training duration {train_duration}\")\n",
        "\n",
        "        # Build and return response\n",
        "        status = Status(code=Code.OK, message=\"Success\")\n",
        "        return FitRes(\n",
        "            status=status,\n",
        "            parameters=parameters_updated,\n",
        "            num_examples=len(self.train_loader),\n",
        "            metrics={\"train_duration\": train_duration},\n",
        "        )\n",
        "\n",
        "    def evaluate(self, ins: EvaluateIns) -> EvaluateRes:\n",
        "        print(f\"[Client {self.partition_id}] evaluate\")\n",
        "        # Deserialize parameters to NumPy ndarray's\n",
        "        parameters_original = ins.parameters\n",
        "        ndarrays_original = parameters_to_ndarrays(parameters_original)\n",
        "        set_parameters(self.model, ndarrays_original)\n",
        "        val_loss, val_acc = validate(self.model, self.val_loader)\n",
        "        print(f\"Val accuracy : {val_acc}| val loss :{val_loss}\")\n",
        "        # Build and return response\n",
        "        status = Status(code=Code.OK, message=\"Success\")\n",
        "        return EvaluateRes(\n",
        "            status=status,\n",
        "            loss=float(val_loss),\n",
        "            num_examples=len(self.val_loader),\n",
        "            metrics={\"val_acc\": float(val_acc)},\n",
        "        )\n"
      ]
    },
    {
      "cell_type": "code",
      "execution_count": null,
      "metadata": {
        "colab": {
          "background_save": true
        },
        "id": "OyPGpUTFW2sx"
      },
      "outputs": [],
      "source": [
        "def client_fn(context: Context) ->Client:\n",
        "    \"\"\"Create Flower client with partition ID.\"\"\"\n",
        "    model=modelefficient\n",
        "    partition_id = context.node_config[\"partition-id\"]\n",
        "    train_loader, val_loader =load_client_dataloaders(partition_id)\n",
        "    print(f\"Client {partition_id} initialized. Train samples: {len(train_loader.dataset)}, Val samples: {len(val_loader.dataset)}\")\n",
        "    return FlowerClientcustom(partition_id,model,train_loader, val_loader).to_client()\n",
        "\n",
        "client_app = ClientApp(client_fn=client_fn)\n",
        "\n"
      ]
    },
    {
      "cell_type": "markdown",
      "metadata": {
        "id": "PH8aCrK5W2sy"
      },
      "source": [
        "### 6.2 function Aggregation validation/test accuracy"
      ]
    },
    {
      "cell_type": "code",
      "execution_count": null,
      "metadata": {
        "colab": {
          "background_save": true
        },
        "id": "jO9f7QlHW2sy"
      },
      "outputs": [],
      "source": [
        "def weighted_average(metrics: List[Tuple[int, Metrics]]) -> Metrics:\n",
        "   # Aggregate validation accuracy\n",
        "    val_accs = [num_examples * m[\"val_acc\"] for num_examples, m in metrics]\n",
        "    examples = [num_examples for num_examples, _ in metrics]\n",
        "    return {\"val_acc\": sum(val_accs) / sum(examples)}\n",
        "\n",
        "def simple_avg_training_time(metrics):\n",
        "    avg_time = sum(m[\"train_duration\"] for _, m in metrics) / len(metrics)\n",
        "    return {\"avg_training_time\": avg_time}\n",
        "\n",
        "test_loader = load_test_dataset()\n",
        "def evaluate_fn(\n",
        "        server_round: int, parameters: NDArrays, config: Dict[str,Scalar],\n",
        "    ) -> Tuple[float, Dict[str, Scalar]]:\n",
        "        model = modelefficient\n",
        "        set_parameters(model, parameters)\n",
        "        test_loss, test_acc, _, _ = evaluate_model(model, test_loader)\n",
        "        print(f\"Global Test Accuracy (Round {server_round}): {test_acc:.2f}%\")\n",
        "        return test_loss, {\"test_acc\": test_acc }"
      ]
    },
    {
      "cell_type": "markdown",
      "metadata": {
        "id": "PTGVw51mW2sz"
      },
      "source": [
        "### 6.4. Define the Flower ServertApp"
      ]
    },
    {
      "cell_type": "code",
      "execution_count": null,
      "metadata": {
        "colab": {
          "background_save": true
        },
        "id": "-xps3TfYW2sz"
      },
      "outputs": [],
      "source": [
        "\n",
        "# Create an instance of the model and get the parameters\n",
        "params =get_parameters(modeleff)\n",
        "# Global variables for timing data\n",
        "round_times = []\n",
        "aggregation_times = []\n",
        "\n",
        "def server_fn(context: Context) -> ServerAppComponents:\n",
        "    global round_times, aggregation_times\n",
        "    # Reset timing data for each simulation\n",
        "    round_times = []\n",
        "    aggregation_times = []\n",
        "\n",
        "    class CustomFedAvg(FedAvg):\n",
        "        def configure_fit(self, server_round, parameters, client_manager):\n",
        "            global round_times, aggregation_times\n",
        "            self.round_start_time = time.time()\n",
        "            return super().configure_fit(server_round, parameters, client_manager)\n",
        "\n",
        "        def aggregate_fit(self, server_round, results, failures):\n",
        "            global round_times, aggregation_times\n",
        "            agg_start = time.time()\n",
        "            aggregated = super().aggregate_fit(server_round, results, failures)\n",
        "            agg_duration = time.time() - agg_start\n",
        "\n",
        "            if not failures:\n",
        "                aggregation_times.append((server_round, agg_duration))\n",
        "                round_times.append((server_round, time.time() - self.round_start_time))\n",
        "            return aggregated\n",
        "\n",
        "    strategy = CustomFedAvg(\n",
        "        fraction_fit=1,\n",
        "        fraction_evaluate=0,\n",
        "        min_available_clients=NUM_CLIENTS,\n",
        "        fit_metrics_aggregation_fn=simple_avg_training_time,\n",
        "        evaluate_fn=evaluate_fn,\n",
        "        initial_parameters=ndarrays_to_parameters(params),\n",
        "        #evaluate_metrics_aggregation_fn=weighted_average,\n",
        "    )\n",
        "\n",
        "    config = ServerConfig(num_rounds=10)\n",
        "            # Wrap server execution in a try-except block\n",
        "    try:\n",
        "        components = ServerAppComponents(strategy=strategy, config=config)\n",
        "        # Run some initial checks for configuration issues\n",
        "        print(\"Initial parameters shape:\", [p.shape for p in params])\n",
        "        print(\"Initial parameters type:\", [p.dtype for p in params])\n",
        "        return components\n",
        "    except Exception as e:\n",
        "        print(f\"Error during server initialization or execution: {e}\")\n",
        "        raise e  # Re-raise the exception for traceback\n",
        "    return ServerAppComponents(strategy=strategy, config=config)\n",
        "\n",
        "# Create the ServerApp\n",
        "server_app = ServerApp(server_fn=server_fn)"
      ]
    },
    {
      "cell_type": "code",
      "execution_count": null,
      "metadata": {
        "colab": {
          "background_save": true
        },
        "id": "TlAZPF6MW2sz"
      },
      "outputs": [],
      "source": [
        "# Specify the resources each of your clients need\n",
        "# By default, each client will be allocated 1x CPU and 0x GPUs\n",
        "backend_config = {\"client_resources\": {\"num_cpus\": 2, \"num_gpus\": 1.0 }}\n"
      ]
    },
    {
      "cell_type": "markdown",
      "metadata": {
        "id": "-0qF2cJLW2s0"
      },
      "source": [
        "### 6.5. Run Flower SIMULATION"
      ]
    },
    {
      "cell_type": "code",
      "execution_count": null,
      "metadata": {
        "id": "6OreWZkYW2s0"
      },
      "outputs": [],
      "source": [
        "# Start simulation\n",
        "run_simulation(\n",
        "    server_app=server_app,\n",
        "    client_app=client_app,\n",
        "    num_supernodes=NUM_CLIENTS,\n",
        "    backend_config=backend_config,\n",
        "    )\n"
      ]
    },
    {
      "cell_type": "code",
      "execution_count": null,
      "metadata": {
        "id": "sowrDKDIOZ2g"
      },
      "outputs": [],
      "source": [
        "def plot_time_curve():\n",
        "\n",
        "    global round_times, aggregation_times\n",
        "\n",
        "    if not round_times:\n",
        "        print(\"No timing data collected during simulation.\")\n",
        "        return\n",
        "\n",
        "    # Extract rounds and times\n",
        "    rounds = [r for r, _ in round_times]\n",
        "    times = [t for _, t in round_times]\n",
        "    cumulative_times = np.cumsum(times)  # Compute cumulative time\n",
        "\n",
        "    # Plot the results\n",
        "    plt.figure(figsize=(10, 6))\n",
        "    plt.plot(rounds, cumulative_times, marker='o', linestyle='-', color='b', label='Cumulative Time')\n",
        "    plt.xlabel('Number of Rounds')\n",
        "    plt.ylabel('Cumulative Time (seconds)')\n",
        "    plt.title('Cumulative Time Taken vs. Number of Rounds (Client Training and Aggregation)')\n",
        "    plt.grid(True)\n",
        "    plt.legend()\n",
        "    plt.show()\n",
        "\n",
        "    # Display total time\n",
        "    print(round_times)\n",
        "    total_time = cumulative_times[-1]\n",
        "    print(f\"Total time taken for {len(rounds)} rounds (client training and aggregation): {total_time:.2f} seconds\")\n",
        "    avg_duration = sum(duration for _, duration in round_times) / len(round_times)\n",
        "    print(f\"Average round duration: {avg_duration:.2f} seconds\")\n",
        "    print(aggregation_times)\n",
        "    avg_aggregation_time = sum(duration for _, duration in aggregation_times) / len(aggregation_times)\n",
        "    print(f\"Average aggregation time: {avg_aggregation_time:.2f} seconds\")\n",
        "plot_time_curve()\n"
      ]
    }
  ],
  "metadata": {
    "accelerator": "GPU",
    "colab": {
      "gpuType": "L4",
      "machine_shape": "hm",
      "provenance": [],
      "include_colab_link": true
    },
    "kernelspec": {
      "display_name": "Python 3",
      "name": "python3"
    },
    "language_info": {
      "codemirror_mode": {
        "name": "ipython",
        "version": 3
      },
      "file_extension": ".py",
      "mimetype": "text/x-python",
      "name": "python",
      "nbconvert_exporter": "python",
      "pygments_lexer": "ipython3",
      "version": "3.11.0"
    }
  },
  "nbformat": 4,
  "nbformat_minor": 0
}