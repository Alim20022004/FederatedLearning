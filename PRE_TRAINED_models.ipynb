{
  "nbformat": 4,
  "nbformat_minor": 0,
  "metadata": {
    "colab": {
      "provenance": [],
      "machine_shape": "hm",
      "gpuType": "L4",
      "mount_file_id": "1A_ns-oNQXL1KDLe0zE4fJzFDnbJbi4t-",
      "authorship_tag": "ABX9TyMjADg/oIlRvhZRZC387D9c",
      "include_colab_link": true
    },
    "kernelspec": {
      "name": "python3",
      "display_name": "Python 3"
    },
    "language_info": {
      "name": "python"
    },
    "accelerator": "GPU"
  },
  "cells": [
    {
      "cell_type": "markdown",
      "metadata": {
        "id": "view-in-github",
        "colab_type": "text"
      },
      "source": [
        "<a href=\"https://colab.research.google.com/github/Alim20022004/FederatedLearning/blob/main/PRE_TRAINED_models.ipynb\" target=\"_parent\"><img src=\"https://colab.research.google.com/assets/colab-badge.svg\" alt=\"Open In Colab\"/></a>"
      ]
    },
    {
      "cell_type": "code",
      "source": [
        "!pip -q install medmnist"
      ],
      "metadata": {
        "id": "oA7DmKS0QR79",
        "colab": {
          "base_uri": "https://localhost:8080/"
        },
        "outputId": "62b23b2b-ee45-4772-cef1-98143e6bff98"
      },
      "execution_count": null,
      "outputs": [
        {
          "output_type": "stream",
          "name": "stdout",
          "text": [
            "\u001b[?25l     \u001b[90m━━━━━━━━━━━━━━━━━━━━━━━━━━━━━━━━━━━━━━━━\u001b[0m \u001b[32m0.0/87.2 kB\u001b[0m \u001b[31m?\u001b[0m eta \u001b[36m-:--:--\u001b[0m\r\u001b[2K     \u001b[90m━━━━━━━━━━━━━━━━━━━━━━━━━━━━━━━━━━━━━━━━\u001b[0m \u001b[32m87.2/87.2 kB\u001b[0m \u001b[31m9.8 MB/s\u001b[0m eta \u001b[36m0:00:00\u001b[0m\n",
            "\u001b[?25h  Preparing metadata (setup.py) ... \u001b[?25l\u001b[?25hdone\n",
            "\u001b[2K   \u001b[90m━━━━━━━━━━━━━━━━━━━━━━━━━━━━━━━━━━━━━━━━\u001b[0m \u001b[32m363.4/363.4 MB\u001b[0m \u001b[31m3.2 MB/s\u001b[0m eta \u001b[36m0:00:00\u001b[0m\n",
            "\u001b[2K   \u001b[90m━━━━━━━━━━━━━━━━━━━━━━━━━━━━━━━━━━━━━━━━\u001b[0m \u001b[32m13.8/13.8 MB\u001b[0m \u001b[31m128.8 MB/s\u001b[0m eta \u001b[36m0:00:00\u001b[0m\n",
            "\u001b[2K   \u001b[90m━━━━━━━━━━━━━━━━━━━━━━━━━━━━━━━━━━━━━━━━\u001b[0m \u001b[32m24.6/24.6 MB\u001b[0m \u001b[31m101.9 MB/s\u001b[0m eta \u001b[36m0:00:00\u001b[0m\n",
            "\u001b[2K   \u001b[90m━━━━━━━━━━━━━━━━━━━━━━━━━━━━━━━━━━━━━━━━\u001b[0m \u001b[32m883.7/883.7 kB\u001b[0m \u001b[31m57.2 MB/s\u001b[0m eta \u001b[36m0:00:00\u001b[0m\n",
            "\u001b[2K   \u001b[90m━━━━━━━━━━━━━━━━━━━━━━━━━━━━━━━━━━━━━━━━\u001b[0m \u001b[32m664.8/664.8 MB\u001b[0m \u001b[31m2.2 MB/s\u001b[0m eta \u001b[36m0:00:00\u001b[0m\n",
            "\u001b[2K   \u001b[90m━━━━━━━━━━━━━━━━━━━━━━━━━━━━━━━━━━━━━━━━\u001b[0m \u001b[32m211.5/211.5 MB\u001b[0m \u001b[31m4.8 MB/s\u001b[0m eta \u001b[36m0:00:00\u001b[0m\n",
            "\u001b[2K   \u001b[90m━━━━━━━━━━━━━━━━━━━━━━━━━━━━━━━━━━━━━━━━\u001b[0m \u001b[32m56.3/56.3 MB\u001b[0m \u001b[31m43.2 MB/s\u001b[0m eta \u001b[36m0:00:00\u001b[0m\n",
            "\u001b[2K   \u001b[90m━━━━━━━━━━━━━━━━━━━━━━━━━━━━━━━━━━━━━━━━\u001b[0m \u001b[32m127.9/127.9 MB\u001b[0m \u001b[31m19.5 MB/s\u001b[0m eta \u001b[36m0:00:00\u001b[0m\n",
            "\u001b[2K   \u001b[90m━━━━━━━━━━━━━━━━━━━━━━━━━━━━━━━━━━━━━━━━\u001b[0m \u001b[32m207.5/207.5 MB\u001b[0m \u001b[31m5.1 MB/s\u001b[0m eta \u001b[36m0:00:00\u001b[0m\n",
            "\u001b[2K   \u001b[90m━━━━━━━━━━━━━━━━━━━━━━━━━━━━━━━━━━━━━━━━\u001b[0m \u001b[32m21.1/21.1 MB\u001b[0m \u001b[31m109.6 MB/s\u001b[0m eta \u001b[36m0:00:00\u001b[0m\n",
            "\u001b[?25h  Building wheel for fire (setup.py) ... \u001b[?25l\u001b[?25hdone\n"
          ]
        }
      ]
    },
    {
      "cell_type": "code",
      "source": [
        "import numpy as np\n",
        "import matplotlib.pyplot as plt\n",
        "import torch\n",
        "import torch.nn as nn\n",
        "import torch.optim as optim\n",
        "from torch.utils.data import DataLoader\n",
        "from torchvision import transforms\n",
        "from medmnist import PathMNIST\n",
        "import seaborn as sns\n",
        "from sklearn.metrics import confusion_matrix, classification_report\n",
        "from torchvision.models import mobilenet_v2, MobileNet_V2_Weights,mobilenet_v3_small,MobileNet_V3_Small_Weights,resnet18,ResNet18_Weights,efficientnet_b0, EfficientNet_B0_Weights,efficientnet_b1, EfficientNet_B1_Weights\n",
        "import torchvision\n",
        "print(torchvision.__version__)\n",
        "\n"
      ],
      "metadata": {
        "id": "91A7JuzU7dPh",
        "colab": {
          "base_uri": "https://localhost:8080/"
        },
        "outputId": "6a1e65b5-8ae2-4875-ef82-93ebde9039a9"
      },
      "execution_count": null,
      "outputs": [
        {
          "output_type": "stream",
          "name": "stdout",
          "text": [
            "0.21.0+cu124\n"
          ]
        }
      ]
    },
    {
      "cell_type": "code",
      "source": [
        "# تحميل البيانات مع تحسين Augmentation\n",
        "def load_data(data_flag='pathmnist', batch_size=128):\n",
        "\n",
        "    # Augmentation only for training\n",
        "    train_transform = transforms.Compose([\n",
        "    transforms.Resize((224, 224)),  # Resize to 224x224\n",
        "    transforms.RandomHorizontalFlip(),\n",
        "    transforms.RandomRotation(10),\n",
        "    transforms.ColorJitter(brightness=0.2, contrast=0.2, saturation=0.2, hue=0.1),\n",
        "    transforms.ToTensor(),\n",
        "    #transforms.Normalize(mean=[0.485, 0.456, 0.406], std=[0.229, 0.224, 0.225])  # ImageNet stats\n",
        "    transforms.Normalize(mean=[0.5, 0.5, 0.5], std=[0.5, 0.5, 0.5])\n",
        "      ])\n",
        "\n",
        "    test_transform = transforms.Compose([\n",
        "    transforms.Resize((224, 224)),  # Resize to 224x224\n",
        "    transforms.ToTensor(),\n",
        "    transforms.Normalize(mean=[0.5, 0.5, 0.5], std=[0.5, 0.5, 0.5])\n",
        "      ])\n",
        "\n",
        "\n",
        "    # Load datasets using the transforms defined above\n",
        "\n",
        "    train_dataset = PathMNIST(split='train', transform=train_transform, download=True)\n",
        "    val_dataset = PathMNIST(split='val', transform=test_transform, download=True)\n",
        "    test_dataset = PathMNIST(split='test', transform=test_transform, download=True)\n",
        "\n",
        "    train_loader = DataLoader(train_dataset, batch_size=batch_size, shuffle=True, num_workers=4)\n",
        "    val_loader = DataLoader(val_dataset, batch_size=batch_size, shuffle=False, num_workers=4)\n",
        "    test_loader = DataLoader(test_dataset, batch_size=batch_size, shuffle=False, num_workers=4)\n",
        "    return train_loader, val_loader, test_loader\n",
        "device = torch.device(\"cuda\" if torch.cuda.is_available() else \"cpu\")\n",
        "num_classes=9\n"
      ],
      "metadata": {
        "id": "3DX0jIaI7fnp"
      },
      "execution_count": null,
      "outputs": []
    },
    {
      "cell_type": "markdown",
      "source": [
        "### **Resnet-18**"
      ],
      "metadata": {
        "id": "KyqxYfM69aQk"
      }
    },
    {
      "cell_type": "code",
      "source": [
        "'''modelRes = resnet18(weights=ResNet18_Weights.DEFAULT)\n",
        "\n",
        "# weights = ResNet18_Weights.DEFAULT\n",
        "# model = resnet18(weights=weights)\n",
        "modelRes.fc = nn.Linear(modelRes.fc.in_features, num_classes)\n",
        "modelRes = modelRes.to(device)'''"
      ],
      "metadata": {
        "id": "kcSuwIE68XqO",
        "colab": {
          "base_uri": "https://localhost:8080/",
          "height": 54
        },
        "outputId": "60fcc8cf-dd75-4ddf-d1a0-74f0b3e7b5a6"
      },
      "execution_count": null,
      "outputs": [
        {
          "output_type": "execute_result",
          "data": {
            "text/plain": [
              "'modelRes = resnet18(weights=ResNet18_Weights.DEFAULT)\\n\\n# weights = ResNet18_Weights.DEFAULT\\n# model = resnet18(weights=weights)\\nmodelRes.fc = nn.Linear(modelRes.fc.in_features, num_classes)\\nmodelRes = modelRes.to(device)'"
            ],
            "application/vnd.google.colaboratory.intrinsic+json": {
              "type": "string"
            }
          },
          "metadata": {},
          "execution_count": 4
        }
      ]
    },
    {
      "cell_type": "markdown",
      "source": [
        "### **MobileNET_V2**"
      ],
      "metadata": {
        "id": "DcUq-4JV90PL"
      }
    },
    {
      "cell_type": "code",
      "source": [
        "'''modelmobile= mobilenet_v2(weights=MobileNet_V2_Weights.IMAGENET1K_V1)\n",
        "\n",
        "# Modify the classifier to output num_classes (9 in our case)\n",
        "# MobileNetV2's classifier is a sequential container.\n",
        "modelmobile.classifier[1] = nn.Linear(modelmobile.last_channel, num_classes)\n",
        "\n",
        "modelmobile = modelmobile.to(device)'''\n"
      ],
      "metadata": {
        "id": "sp7tgKL473on",
        "colab": {
          "base_uri": "https://localhost:8080/",
          "height": 54
        },
        "outputId": "b189fa92-c65b-45df-ce33-30c8188bbcd3"
      },
      "execution_count": null,
      "outputs": [
        {
          "output_type": "execute_result",
          "data": {
            "text/plain": [
              "\"modelmobile= mobilenet_v2(weights=MobileNet_V2_Weights.IMAGENET1K_V1)\\n\\n# Modify the classifier to output num_classes (9 in our case)\\n# MobileNetV2's classifier is a sequential container.\\nmodelmobile.classifier[1] = nn.Linear(modelmobile.last_channel, num_classes)\\n\\nmodelmobile = modelmobile.to(device)\""
            ],
            "application/vnd.google.colaboratory.intrinsic+json": {
              "type": "string"
            }
          },
          "metadata": {},
          "execution_count": 5
        }
      ]
    },
    {
      "cell_type": "markdown",
      "source": [
        "### **MobileNet_V3**"
      ],
      "metadata": {
        "id": "-v_XYeumrcQ7"
      }
    },
    {
      "cell_type": "code",
      "source": [
        "modelnetV3 = mobilenet_v3_small(weights=MobileNet_V3_Small_Weights.DEFAULT)\n",
        "modelnetV3.classifier[3] = nn.Linear(modelnetV3.classifier[3].in_features, num_classes)\n",
        "modelnetV3 = modelnetV3.to(device)"
      ],
      "metadata": {
        "id": "z6ztsCqSrj6J",
        "colab": {
          "base_uri": "https://localhost:8080/"
        },
        "outputId": "81a8068f-1275-49f1-b7c6-8510b7ee7e1b"
      },
      "execution_count": null,
      "outputs": [
        {
          "output_type": "stream",
          "name": "stderr",
          "text": [
            "Downloading: \"https://download.pytorch.org/models/mobilenet_v3_small-047dcff4.pth\" to /root/.cache/torch/hub/checkpoints/mobilenet_v3_small-047dcff4.pth\n",
            "100%|██████████| 9.83M/9.83M [00:00<00:00, 218MB/s]\n"
          ]
        }
      ]
    },
    {
      "cell_type": "markdown",
      "source": [
        "# **Efficientnet_b0**"
      ],
      "metadata": {
        "id": "QBEWhKQ3d-7r"
      }
    },
    {
      "cell_type": "code",
      "source": [
        "modeleff = efficientnet_b0(weights=EfficientNet_B0_Weights.IMAGENET1K_V1)\n",
        "modeleff.classifier[1] = nn.Linear(modeleff.classifier[1].in_features, num_classes)\n",
        "modeleff=modeleff.to(device)\n"
      ],
      "metadata": {
        "id": "rarsLAAjdgy4",
        "colab": {
          "base_uri": "https://localhost:8080/"
        },
        "outputId": "30b960e2-bdd8-4c17-86ca-03ddd55595f5"
      },
      "execution_count": null,
      "outputs": [
        {
          "output_type": "stream",
          "name": "stderr",
          "text": [
            "Downloading: \"https://download.pytorch.org/models/efficientnet_b0_rwightman-7f5810bc.pth\" to /root/.cache/torch/hub/checkpoints/efficientnet_b0_rwightman-7f5810bc.pth\n",
            "100%|██████████| 20.5M/20.5M [00:00<00:00, 218MB/s]\n"
          ]
        }
      ]
    },
    {
      "cell_type": "code",
      "source": [
        "# تحسين وظيفة التدريب\n",
        "def train_epoch(model, train_loader, criterion, optimizer, device):\n",
        "    model.train()\n",
        "    correct, total, running_loss = 0, 0, 0.0\n",
        "\n",
        "    for inputs, labels in train_loader:\n",
        "        inputs, labels = inputs.to(device), labels.squeeze().to(device)\n",
        "        optimizer.zero_grad()\n",
        "        outputs = model(inputs)\n",
        "        loss = criterion(outputs, labels)\n",
        "        loss.backward()\n",
        "        optimizer.step()\n",
        "\n",
        "        running_loss += loss.item()\n",
        "        _, predicted = torch.max(outputs, 1)\n",
        "        total += labels.size(0)\n",
        "        correct += predicted.eq(labels).sum().item()\n",
        "\n",
        "    train_loss = running_loss / len(train_loader)\n",
        "    train_acc = 100 * correct / total\n",
        "    return train_loss, train_acc\n",
        "\n",
        "# تحسين وظيفة التحقق\n",
        "def validate(model, val_loader, criterion, device):\n",
        "    model.eval()\n",
        "    correct, total, val_loss = 0, 0, 0.0\n",
        "\n",
        "    with torch.no_grad():\n",
        "        for inputs, labels in val_loader:\n",
        "            inputs, labels = inputs.to(device), labels.squeeze().to(device)\n",
        "            outputs = model(inputs)\n",
        "            loss = criterion(outputs, labels)\n",
        "\n",
        "            val_loss += loss.item()\n",
        "            _, predicted = torch.max(outputs, 1)\n",
        "            total += labels.size(0)\n",
        "            correct += predicted.eq(labels).sum().item()\n",
        "\n",
        "    val_loss = val_loss / len(val_loader)\n",
        "    val_acc = 100 * correct / total\n",
        "    return val_loss, val_acc"
      ],
      "metadata": {
        "id": "T6DqNORp7jIJ"
      },
      "execution_count": null,
      "outputs": []
    },
    {
      "cell_type": "code",
      "source": [
        "# تدريب النموذج مع Scheduler\n",
        "def train_model(model, train_loader, val_loader, criterion, optimizer, scheduler, device, num_epochs):\n",
        "    train_losses, val_losses = [], []\n",
        "    train_accuracies, val_accuracies = [], []\n",
        "\n",
        "    for epoch in range(num_epochs):\n",
        "        train_loss, train_acc = train_epoch(model, train_loader, criterion, optimizer, device)\n",
        "        val_loss, val_acc = validate(model, val_loader, criterion, device)\n",
        "\n",
        "        scheduler.step()  # تحديث معامل التعلم\n",
        "\n",
        "        train_losses.append(train_loss)\n",
        "        train_accuracies.append(train_acc)\n",
        "        val_losses.append(val_loss)\n",
        "        val_accuracies.append(val_acc)\n",
        "\n",
        "        print(f\"Epoch {epoch+1}/{num_epochs}: \"\n",
        "              f\"Train Loss: {train_loss:.4f}, Train Acc: {train_acc:.2f}% | \"\n",
        "              f\"Val Loss: {val_loss:.4f}, Val Acc: {val_acc:.2f}%\")\n",
        "\n",
        "    return train_losses, train_accuracies, val_losses, val_accuracies"
      ],
      "metadata": {
        "id": "D46lIF4x7lzj"
      },
      "execution_count": null,
      "outputs": []
    },
    {
      "cell_type": "code",
      "source": [
        "# تقييم النموذج\n",
        "def evaluate_model(model, test_loader, criterion, device):\n",
        "    model.eval()\n",
        "    total, correct, test_loss = 0, 0, 0.0\n",
        "    all_preds = []\n",
        "    all_labels = []\n",
        "\n",
        "    with torch.no_grad():\n",
        "        for inputs, labels in test_loader:\n",
        "            inputs, labels = inputs.to(device), labels.squeeze().to(device)\n",
        "            outputs = model(inputs)\n",
        "            loss = criterion(outputs, labels)\n",
        "            test_loss += loss.item()\n",
        "            _, preds = torch.max(outputs, 1)\n",
        "            all_preds.extend(preds.cpu().numpy())\n",
        "            all_labels.extend(labels.cpu().numpy())  # Fixed line\n",
        "            total += labels.size(0)\n",
        "            correct += preds.eq(labels).sum().item()\n",
        "\n",
        "    test_loss = test_loss / len(test_loader)\n",
        "    test_acc = 100 * correct / total\n",
        "    return test_loss, test_acc,np.array(all_preds), np.array(all_labels)\n"
      ],
      "metadata": {
        "id": "hpZgXSCA7pfe"
      },
      "execution_count": null,
      "outputs": []
    },
    {
      "cell_type": "code",
      "source": [
        "def plot_metrics(train_losses, val_losses, train_accuracies, val_accuracies):\n",
        "    \"\"\"Plot training/validation curves with customized markers and interactive tooltips.\"\"\"\n",
        "    plt.figure(figsize=(12, 4))\n",
        "\n",
        "    # 📌 رسم منحنى الخسارة (Loss)\n",
        "    plt.subplot(1, 2, 1)\n",
        "    sns.lineplot(x=range(1, len(train_losses) + 1), y=train_losses, label='Train Loss', marker=\"o\", markersize=5, color=\"b\")\n",
        "    sns.lineplot(x=range(1, len(val_losses) + 1), y=val_losses, label='Val Loss', marker=\"s\", markersize=5, color=\"r\")\n",
        "    plt.xlabel('Epoch')\n",
        "    plt.ylabel('Loss')\n",
        "    plt.legend()\n",
        "    plt.grid(True)\n",
        "\n",
        "    # 📌 رسم منحنى الدقة (Accuracy)\n",
        "    plt.subplot(1, 2, 2)\n",
        "    sns.lineplot(x=range(1, len(train_accuracies) + 1), y=train_accuracies, label='Train Acc', marker=\"o\", markersize=5, color=\"g\")\n",
        "    sns.lineplot(x=range(1, len(val_accuracies) + 1), y=val_accuracies, label='Val Acc', marker=\"s\", markersize=5, color=\"m\")\n",
        "    plt.xlabel('Epoch')\n",
        "    plt.ylabel('Accuracy (%)')\n",
        "    plt.legend()\n",
        "    plt.grid(True)\n",
        "\n",
        "\n",
        "    # 📌 تحسين الشكل وعرضه\n",
        "    plt.tight_layout()\n",
        "    plt.show()"
      ],
      "metadata": {
        "id": "2DDBy6h87tVD"
      },
      "execution_count": null,
      "outputs": []
    },
    {
      "cell_type": "code",
      "source": [
        "torch.manual_seed(42)\n",
        "device = torch.device(\"cuda\" if torch.cuda.is_available() else \"cpu\")\n",
        "batch_size = 64\n",
        "num_epochs = 10\n",
        "train_loader, val_loader, test_loader = load_data(batch_size=batch_size)\n",
        "\n",
        "\n",
        "\n",
        "criterion = nn.CrossEntropyLoss()\n",
        "optimizer = optim.AdamW(modeleff.parameters(), lr=0.001, weight_decay=1e-4)\n",
        "scheduler = optim.lr_scheduler.CosineAnnealingLR(optimizer, T_max=num_epochs)\n",
        "train_losses, train_acc, val_losses, val_acc = train_model(\n",
        "   modeleff, train_loader, val_loader, criterion, optimizer, scheduler, device, num_epochs\n",
        "    )\n",
        "\n",
        "plot_metrics(train_losses, val_losses, train_acc, val_acc)\n",
        "\n"
      ],
      "metadata": {
        "colab": {
          "base_uri": "https://localhost:8080/",
          "height": 606
        },
        "id": "H5KWOf_i7uRd",
        "outputId": "a063d246-3bf8-4893-ae9e-0eb62f2ad943"
      },
      "execution_count": null,
      "outputs": [
        {
          "output_type": "stream",
          "name": "stderr",
          "text": [
            "100%|██████████| 206M/206M [02:01<00:00, 1.69MB/s]\n"
          ]
        },
        {
          "output_type": "stream",
          "name": "stdout",
          "text": [
            "Epoch 1/10: Train Loss: 0.2523, Train Acc: 91.52% | Val Loss: 0.1978, Val Acc: 93.24%\n",
            "Epoch 2/10: Train Loss: 0.1379, Train Acc: 95.48% | Val Loss: 0.1049, Val Acc: 96.66%\n",
            "Epoch 3/10: Train Loss: 0.1102, Train Acc: 96.40% | Val Loss: 0.0797, Val Acc: 97.35%\n",
            "Epoch 4/10: Train Loss: 0.0864, Train Acc: 97.11% | Val Loss: 0.0721, Val Acc: 97.79%\n",
            "Epoch 5/10: Train Loss: 0.0668, Train Acc: 97.75% | Val Loss: 0.0456, Val Acc: 98.59%\n",
            "Epoch 6/10: Train Loss: 0.0500, Train Acc: 98.26% | Val Loss: 0.0381, Val Acc: 98.82%\n",
            "Epoch 7/10: Train Loss: 0.0351, Train Acc: 98.86% | Val Loss: 0.0285, Val Acc: 99.15%\n",
            "Epoch 8/10: Train Loss: 0.0232, Train Acc: 99.22% | Val Loss: 0.0237, Val Acc: 99.29%\n",
            "Epoch 9/10: Train Loss: 0.0163, Train Acc: 99.43% | Val Loss: 0.0192, Val Acc: 99.43%\n",
            "Epoch 10/10: Train Loss: 0.0114, Train Acc: 99.63% | Val Loss: 0.0186, Val Acc: 99.45%\n"
          ]
        },
        {
          "output_type": "display_data",
          "data": {
            "text/plain": [
              "<Figure size 1200x400 with 2 Axes>"
            ],
            "image/png": "[encoded data removed]"
          },
          "metadata": {}
        }
      ]
    },
    {
      "cell_type": "code",
      "source": [
        "test_loss, test_acc,test_preds, test_labels = evaluate_model(modeleff , test_loader, criterion, device)\n",
        "print(f\"\\nTest Results: Loss = {test_loss:.4f}, Accuracy = {test_acc:.2f}%\")"
      ],
      "metadata": {
        "id": "mwIPc0Gc8_1j",
        "colab": {
          "base_uri": "https://localhost:8080/"
        },
        "outputId": "9c270cfa-f653-42e1-c227-b353e1d1c22d"
      },
      "execution_count": null,
      "outputs": [
        {
          "output_type": "stream",
          "name": "stdout",
          "text": [
            "\n",
            "Test Results: Loss = 0.1962, Accuracy = 95.64%\n"
          ]
        }
      ]
    },
    {
      "cell_type": "code",
      "source": [
        "# Confusion Matrix & Classification Report\n",
        "print(\"\\nClassification Report:\")\n",
        "print(classification_report(test_labels, test_preds, target_names=PathMNIST(split='train').info['label'].values(),digits=4))\n",
        "\n",
        "plt.figure(figsize=(10, 8))\n",
        "sns.heatmap(confusion_matrix(test_labels, test_preds), annot=True, fmt='d', cmap='Blues')\n",
        "plt.title('Confusion Matrix')\n",
        "plt.show()"
      ],
      "metadata": {
        "id": "-47ajjcW9CGW",
        "colab": {
          "base_uri": "https://localhost:8080/",
          "height": 1000
        },
        "outputId": "a6db0300-0023-4aa7-f419-5d3f28a80018"
      },
      "execution_count": null,
      "outputs": [
        {
          "output_type": "stream",
          "name": "stdout",
          "text": [
            "\n",
            "Classification Report:\n",
            "                                      precision    recall  f1-score   support\n",
            "\n",
            "                             adipose     0.9962    0.9798    0.9879      1338\n",
            "                          background     0.9918    1.0000    0.9959       847\n",
            "                              debris     0.9261    0.9617    0.9436       339\n",
            "                         lymphocytes     0.9662    0.9921    0.9790       634\n",
            "                               mucus     0.9922    0.9816    0.9869      1035\n",
            "                       smooth muscle     0.8263    0.9324    0.8762       592\n",
            "                 normal colon mucosa     0.9538    0.9744    0.9640       741\n",
            "            cancer-associated stroma     0.8593    0.6675    0.7513       421\n",
            "colorectal adenocarcinoma epithelium     0.9610    0.9594    0.9602      1233\n",
            "\n",
            "                            accuracy                         0.9564      7180\n",
            "                           macro avg     0.9414    0.9388    0.9383      7180\n",
            "                        weighted avg     0.9567    0.9564    0.9555      7180\n",
            "\n"
          ]
        },
        {
          "output_type": "display_data",
          "data": {
            "text/plain": [
              "<Figure size 1000x800 with 2 Axes>"
            ],
            "image/png": "[encoded data removed]"
          },
          "metadata": {}
        }
      ]
    },
    {
      "cell_type": "code",
      "source": [
        "from matplotlib.backends.backend_pdf import PdfPages\n",
        "import datetime\n",
        "\n",
        "def save_report(train_losses, val_losses, train_accuracies, val_accuracies,\n",
        "                test_loss, test_acc, test_labels, test_preds,\n",
        "                target_names, filename=None):\n",
        "    \"\"\"\n",
        "    Save the experiment results in a multi-page PDF.\n",
        "\n",
        "    Parameters:\n",
        "      - train_losses, val_losses: lists of training and validation losses per epoch.\n",
        "      - train_accuracies, val_accuracies: lists of accuracies per epoch.\n",
        "      - test_loss: final test loss (float).\n",
        "      - test_acc: final test accuracy (float).\n",
        "      - test_labels: true labels for the test set.\n",
        "      - test_preds: predicted labels for the test set.\n",
        "      - target_names: list of label names for the classification report.\n",
        "      - filename: optional file name; if None, a name with timestamp is created.\n",
        "    \"\"\"\n",
        "    # If no filename is provided, generate one with a timestamp.\n",
        "    if filename is None:\n",
        "        timestamp = datetime.datetime.now().strftime(\"%Y%m%d_%H%M%S\")\n",
        "        filename = f\"experiment_report_{timestamp}.pdf\"\n",
        "\n",
        "    # Generate the classification report (as a string) and the confusion matrix array.\n",
        "    class_report = classification_report(test_labels, test_preds, target_names=target_names,digits=4)\n",
        "    conf_matrix = confusion_matrix(test_labels, test_preds)\n",
        "\n",
        "    with PdfPages(filename) as pdf:\n",
        "        # -----------------------------\n",
        "        # Page 1: Loss and Accuracy Curves\n",
        "        # -----------------------------\n",
        "        fig, axes = plt.subplots(1, 2, figsize=(14, 5))\n",
        "\n",
        "        # Plot Loss Curves on the left axis\n",
        "        sns.lineplot(x=range(1, len(train_losses) + 1), y=train_losses, label='Train Loss',\n",
        "                     marker=\"o\", markersize=5, color=\"b\", ax=axes[0])\n",
        "        sns.lineplot(x=range(1, len(val_losses) + 1), y=val_losses, label='Val Loss',\n",
        "                     marker=\"s\", markersize=5, color=\"r\", ax=axes[0])\n",
        "        axes[0].set_title(\"Training & Validation Loss\")\n",
        "        axes[0].set_xlabel(\"Epoch\")\n",
        "        axes[0].set_ylabel(\"Loss\")\n",
        "        axes[0].legend()\n",
        "        axes[0].grid(True)\n",
        "\n",
        "        # Plot Accuracy Curves on the right axis\n",
        "        sns.lineplot(x=range(1, len(train_accuracies) + 1), y=train_accuracies, label='Train Acc',\n",
        "                     marker=\"o\", markersize=5, color=\"b\", ax=axes[1])\n",
        "        sns.lineplot(x=range(1, len(val_accuracies) + 1), y=val_accuracies, label='Val Acc',\n",
        "                     marker=\"s\", markersize=5, color=\"r\", ax=axes[1])\n",
        "        axes[1].set_title(\"Training & Validation Accuracy\")\n",
        "        axes[1].set_xlabel(\"Epoch\")\n",
        "        axes[1].set_ylabel(\"Accuracy %\")\n",
        "        axes[1].legend()\n",
        "        axes[1].grid(True)\n",
        "        plt.tight_layout()\n",
        "        fig.suptitle(\"Training & Validation Metrics\", fontsize=16)\n",
        "        pdf.savefig(fig)\n",
        "        plt.close(fig)\n",
        "\n",
        "\n",
        "        # -----------------------------\n",
        "        # Combined Page: Test Results & Classification Report\n",
        "        # -----------------------------\n",
        "        import pandas as pd\n",
        "\n",
        "        # Generate the classification report as a dictionary and convert it into a DataFrame\n",
        "        report_dict = classification_report(test_labels, test_preds, target_names=target_names, output_dict=True)\n",
        "        report_df = pd.DataFrame(report_dict).transpose()\n",
        "        report_df = report_df.round(4)  # Round numerical values for clarity\n",
        "\n",
        "        # Create a figure with two rows: one for test results, one for the classification table\n",
        "        fig, axes = plt.subplots(2, 1, figsize=(10, 12))\n",
        "\n",
        "        # Top subplot: Display Test Results\n",
        "        results_text = (f\"Test Loss: {test_loss:.4f}\\n\"\n",
        "                f\"Test Accuracy: {test_acc:.2f}%\")\n",
        "        axes[0].text(0.5, 0.5, results_text, transform=axes[0].transAxes,\n",
        "             fontsize=14, va='center', ha='center')\n",
        "        axes[0].axis('off')\n",
        "        axes[0].set_title('Test Results', fontsize=16)\n",
        "\n",
        "        # Bottom subplot: Display Classification Report as a Table\n",
        "        axes[1].axis('tight')\n",
        "        axes[1].axis('off')\n",
        "        # Create the table using the DataFrame values and labels\n",
        "        table = axes[1].table(cellText=report_df.values,\n",
        "                      colLabels=report_df.columns,\n",
        "                      rowLabels=report_df.index,\n",
        "                      loc='center',bbox=[0.5, 0, 0.5, 1])\n",
        "        table.auto_set_font_size(False)\n",
        "        table.set_fontsize(10)\n",
        "        table.scale(0.5, 1)\n",
        "        axes[1].set_title('Classification Report', fontsize=16)\n",
        "\n",
        "        # Save this combined page into the PDF report\n",
        "        pdf.savefig(fig)\n",
        "        plt.close(fig)\n",
        "\n",
        "        # -----------------------------\n",
        "        # Page 4: Confusion Matrix\n",
        "        # -----------------------------\n",
        "        fig, ax = plt.subplots(figsize=(10, 8))\n",
        "        sns.heatmap(conf_matrix, annot=True, fmt='d', cmap='Blues', ax=ax)\n",
        "        ax.set_title('Confusion Matrix', fontsize=16)\n",
        "        ax.set_xlabel('Predicted Label')\n",
        "        ax.set_ylabel('True Label')\n",
        "        pdf.savefig(fig)\n",
        "        plt.close(fig)\n",
        "\n",
        "    print(f\"Report successfully saved to '{filename}'.\")\n",
        "\n",
        "\n",
        "# Example usage:\n",
        "# (Assuming that you have already computed these variables in previous cells.)\n",
        "\n",
        "# Your training/validation curves:\n",
        "#   train_losses, val_losses, train_accuracies, val_accuracies\n",
        "# Your test results:\n",
        "#   test_loss, test_acc, test_preds, test_labels\n",
        "# And the label names:\n",
        "target_names = list(PathMNIST(split='train').info['label'].values())\n",
        "filename='MobilenetV2 64 Batches 10 epoches.pdf'\n",
        "# Call the function to save the report:\n",
        "save_report(train_losses, val_losses, train_acc, val_acc,\n",
        "            test_loss, test_acc, test_labels, test_preds,\n",
        "            target_names,filename)\n"
      ],
      "metadata": {
        "id": "77rP5XVREpLI",
        "colab": {
          "base_uri": "https://localhost:8080/"
        },
        "outputId": "153a46bc-996f-4156-bd2d-76cd831bb49e"
      },
      "execution_count": null,
      "outputs": [
        {
          "output_type": "stream",
          "name": "stdout",
          "text": [
            "Report successfully saved to 'MobilenetV2 64 Batches 10 epoches.pdf'.\n"
          ]
        }
      ]
    }
  ]
}